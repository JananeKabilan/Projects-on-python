{
 "cells": [
  {
   "cell_type": "markdown",
   "id": "460a125c",
   "metadata": {},
   "source": [
    "# Rock,Paper and Scissor"
   ]
  },
  {
   "cell_type": "code",
   "execution_count": 31,
   "id": "508740f8",
   "metadata": {},
   "outputs": [
    {
     "name": "stdout",
     "output_type": "stream",
     "text": [
      "enter ur choice: scissor\n",
      "enter ur choice: paper\n",
      "player_1 won\n"
     ]
    }
   ],
   "source": [
    "player_1 = str(input(\"enter ur choice: \"))\n",
    "player_2 = str(input(\"enter ur choice: \"))\n",
    "\n",
    "if (player_1 == 'rock' and player_2 == 'scissor'):\n",
    "    print(\"player_1 won\")\n",
    "elif (player_1 == 'scissor' and player_2 == 'rock'):\n",
    "    print(\"player_2 won\")\n",
    "elif (player_1 == 'paper' and player_2 == 'scissor'):\n",
    "    print(\"player_2 won\")\n",
    "elif (player_1 == 'scissor' and player_2 == 'paper'):\n",
    "    print(\"player_1 won\")\n",
    "elif (player_1 == 'rock' and player_2 == 'paper'):\n",
    "    print(\"player_2 won\")\n",
    "elif (player_1 == 'paper' and player_2 == 'rock'):\n",
    "    print(\"player_1 won\")\n",
    "else:\n",
    "    print(\"the game draws\")"
   ]
  }
 ],
 "metadata": {
  "kernelspec": {
   "display_name": "Python 3",
   "language": "python",
   "name": "python3"
  },
  "language_info": {
   "codemirror_mode": {
    "name": "ipython",
    "version": 3
   },
   "file_extension": ".py",
   "mimetype": "text/x-python",
   "name": "python",
   "nbconvert_exporter": "python",
   "pygments_lexer": "ipython3",
   "version": "3.8.8"
  }
 },
 "nbformat": 4,
 "nbformat_minor": 5
}
