{
 "cells": [
  {
   "cell_type": "markdown",
   "id": "2f2ff88b",
   "metadata": {},
   "source": [
    "# Project - 1.0 (Student Portfolio)"
   ]
  },
  {
   "cell_type": "code",
   "execution_count": 1,
   "id": "46ae3c87",
   "metadata": {},
   "outputs": [
    {
     "name": "stdout",
     "output_type": "stream",
     "text": [
      "enter firstname: Sheela\n",
      "enter lastname: Begum\n",
      "enter std: X\n",
      "enter div: 'B'\n",
      "enter roll no: 23\n",
      "--------------------\n",
      "Sheela Begum has chose three subjects\n",
      "enter mark: 78\n",
      "enter mark: 89\n",
      "enter mark: 90\n",
      "257\n",
      "Sheela Begum scored 257 out of 300\n",
      "--------------------\n",
      "85.66666666666667\n",
      "--------------------\n",
      "Sheela Begum from class of X ,Div-'B' ,Roll_no-23 has secured 85.66666666666667\n",
      "------------------------------\n"
     ]
    }
   ],
   "source": [
    "First_name = input(\"enter firstname: \")\n",
    "Last_name = input(\"enter lastname: \")\n",
    "std = input(\"enter std: \")\n",
    "division = input(\"enter div: \")\n",
    "roll_no = int(input(\"enter roll no: \"))\n",
    "print(\"-\" * 20)\n",
    "print(f\"{First_name.title()} {Last_name.title()} has chose three subjects\")      \n",
    "history = int(input(\"enter mark: \"))\n",
    "geography = int(input(\"enter mark: \"))\n",
    "civics = int(input(\"enter mark: \"))\n",
    "total_marks = history + geography + civics\n",
    "print(total_marks)\n",
    "print(f\"{First_name.title()} {Last_name.title()} scored {total_marks} out of 300\")\n",
    "print(\"-\" * 20)\n",
    "percent = total_marks / 300 * 100\n",
    "print(percent)\n",
    "print(\"-\" * 20)\n",
    "print(f\"{First_name.title()} {Last_name.title()} from class of {std} ,Div-{division} ,Roll_no-{roll_no} has secured {percent}\")\n",
    "print(\"-\" * 30)\n"
   ]
  },
  {
   "cell_type": "code",
   "execution_count": null,
   "id": "0e138077",
   "metadata": {},
   "outputs": [],
   "source": []
  }
 ],
 "metadata": {
  "kernelspec": {
   "display_name": "Python 3",
   "language": "python",
   "name": "python3"
  },
  "language_info": {
   "codemirror_mode": {
    "name": "ipython",
    "version": 3
   },
   "file_extension": ".py",
   "mimetype": "text/x-python",
   "name": "python",
   "nbconvert_exporter": "python",
   "pygments_lexer": "ipython3",
   "version": "3.8.8"
  }
 },
 "nbformat": 4,
 "nbformat_minor": 5
}
